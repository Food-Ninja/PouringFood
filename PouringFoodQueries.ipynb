{
 "cells": [
  {
   "cell_type": "markdown",
   "id": "26f4cc82",
   "metadata": {},
   "source": [
    "## 1. Set parameters for queries\n",
    "This step will open a dropdown so you can choose parameters for the following queries. "
   ]
  },
  {
   "cell_type": "code",
   "execution_count": 25,
   "id": "93dde8a4",
   "metadata": {},
   "outputs": [
    {
     "data": {
      "application/vnd.jupyter.widget-view+json": {
       "model_id": "a2b0a6517363455489b5386283fc25f6",
       "version_major": 2,
       "version_minor": 0
      },
      "text/plain": [
       "HBox(children=(Dropdown(description='Task:', options=(('pour', 'pour:Pouring'), ('drain', 'pour:Draining'), ('…"
      ]
     },
     "execution_count": 25,
     "metadata": {},
     "output_type": "execute_result"
    }
   ],
   "source": [
    "import ipywidgets as widgets\n",
    "from ipywidgets import HBox\n",
    "\n",
    "# all available parameters\n",
    "tasks = [('pour',\"pour:Pouring\"),\n",
    "        ('drain', \"pour:Draining\"),\n",
    "        ('sprinkle',\"pour:Sprinkling\")]\n",
    "\n",
    "objects=[('batter', \"obo:FOODON_03301304\"),\n",
    "        ('broth', \"obo:FOODON_03420170\"),\n",
    "        ('chocolate', \"obo:FOODON_03307240\"),\n",
    "        ('coffee', \"obo:FOODON_03301036\"),    \n",
    "        ('cream', \"pour:cream\"),\n",
    "        ('egg', \"obo:FOODON_03316061\"),\n",
    "        ('flour', \"obo:FOODON_03302339\"),     \n",
    "        ('juice', \"obo:FOODON_03315552\"), \n",
    "        ('liquids', \"pour:Liquids\"),\n",
    "        ('milk', \"obo:UBERON_0001913\"),\n",
    "        ('oil', \"obo:FOODON_03310387\"),\n",
    "        ('sauce', \"obo:FOODON_03311146\"),\n",
    "        ('sugar', \"obo:FOODON_03301073\"),\n",
    "        ('syrup', \"obo:FOODON_03303225\"), \n",
    "        ('tea', \"obo:FOODON_03315081\"),\n",
    "        ('vinegar', \"obo:FOODON_03301705\"),\n",
    "        ('water', \"obo:ENVO_00003064\"),\n",
    "        ('wine', \"obo:FOODON_03301338\")]\n",
    "\n",
    "task=\"\"\n",
    "tobject=\"\"\n",
    "\n",
    "# Takes a Task of the tasks list. \n",
    "# Then makes the previously initialized task variable global and assigns value of the given Task to it \n",
    "def chooseTask(Task):\n",
    "    global task\n",
    "    task=Task\n",
    "    \n",
    "# Takes an Object of the object list.\n",
    "# Then makes the previously initialized tobject variable global and assigns value of the given Object to it \n",
    "def chooseObject(Object):\n",
    "    global tobject\n",
    "    tobject=Object\n",
    "    \n",
    "# Create the dropdown widgets\n",
    "task_widget = widgets.Dropdown(options=tasks, description='Task:')\n",
    "object_widget = widgets.Dropdown(options=objects, description='Object:')\n",
    "\n",
    "# Define the event handlers\n",
    "def taskEvent(event):\n",
    "    chooseTask(event.new)\n",
    "\n",
    "def objectEvent(event):\n",
    "    chooseObject(event.new)\n",
    "    \n",
    "# Attach the event handlers to the widgets\n",
    "task_widget.observe(taskEvent, names='value')\n",
    "object_widget.observe(objectEvent, names='value')\n",
    "\n",
    "# Combine the widgets using HBox\n",
    "widgets_display = HBox([task_widget, object_widget])\n",
    "\n",
    "# Display widgets\n",
    "widgets_display\n",
    "\n",
    "# optional: set Parameters manually:\n",
    "#task = \"cut:Quartering\"\n",
    "#tobject = \"obo:FOODON_03301710\""
   ]
  },
  {
   "cell_type": "markdown",
   "id": "fd3a6a18",
   "metadata": {},
   "source": [
    "## 2. import rdflib for querying the knowledge graph for action parameters\n",
    "This step is needed to load libraries for execution of the queries"
   ]
  },
  {
   "cell_type": "code",
   "execution_count": 27,
   "id": "4e594054",
   "metadata": {},
   "outputs": [
    {
     "name": "stdout",
     "output_type": "stream",
     "text": [
      "Requirement already satisfied: rdflib in /opt/conda/lib/python3.11/site-packages (7.0.0)\n",
      "Requirement already satisfied: isodate<0.7.0,>=0.6.0 in /opt/conda/lib/python3.11/site-packages (from rdflib) (0.6.1)\n",
      "Requirement already satisfied: pyparsing<4,>=2.1.0 in /opt/conda/lib/python3.11/site-packages (from rdflib) (3.1.1)\n",
      "Requirement already satisfied: six in /opt/conda/lib/python3.11/site-packages (from isodate<0.7.0,>=0.6.0->rdflib) (1.16.0)\n"
     ]
    }
   ],
   "source": [
    "!pip install rdflib\n",
    "# import rdflib\n",
    "from rdflib import Graph, Literal, URIRef, Namespace\n",
    "# rdflib knows about quite a few popular namespaces, like W3C ontologies, schema.org etc\n",
    "from rdflib.namespace import OWL, RDF, RDFS"
   ]
  },
  {
   "cell_type": "markdown",
   "id": "7474e1b8",
   "metadata": {},
   "source": [
    "--------------------------------------------------------------------------------------------------------------------------------\n",
    "# Now let us start with querying the knowledge graph!\n",
    "## Query 1: We can query for the <b>tool</b> to be used for the chosen task:\n",
    "With this query, a robot can determine if a tool shall be used for the pouring task"
   ]
  },
  {
   "cell_type": "code",
   "execution_count": 32,
   "id": "9081b19a",
   "metadata": {},
   "outputs": [],
   "source": [
    "import requests\n",
    "\n",
    "url = \"https://raw.githubusercontent.com/Food-Ninja/PouringFood/main/owl/PouringFood.owl\"\n",
    "\n",
    "response = requests.get(url)\n",
    "\n",
    "g = Graph()\n",
    "g.parse(data=response.content, format='xml')\n",
    "\n",
    "# define prefixes to be used in the query \n",
    "SOMA = Namespace(\"http://www.ease-crc.org/ont/SOMA.owl#\")\n",
    "POUR = Namespace(\"http://www.ease-crc.org/ont/pouring_food#\")\n",
    "DUL = Namespace(\"http://www.ontologydesignpatterns.org/ont/dul/DUL.owl#\")\n",
    "OBO = Namespace(\"http://purl.obolibrary.org/obo/\")\n",
    "QUDT = Namespace(\"http://qudt.org/schema/qudt#\")\n",
    "g.bind(\"owl\", OWL)\n",
    "g.bind(\"rdfs\", RDFS)\n",
    "g.bind(\"soma\", SOMA)\n",
    "g.bind(\"pour\", POUR)\n",
    "g.bind(\"dul\", DUL)\n",
    "g.bind(\"obo\", OBO)\n",
    "g.bind(\"qudt\",QUDT)\n",
    "\n",
    "# the actual query comes here\n",
    "query = \"\"\"SELECT ?whattool WHERE {\n",
    "      %s rdfs:subClassOf ?n.\n",
    "      ?n owl:onProperty dul:hasParticipant.\n",
    "      ?n owl:someValuesFrom ?whattool.} \"\"\" % (task) # the input parameter for the query. For testing, you can remove % (tobject) here\n",
    "#and replace %s in the first line of the query with a variable like ?food to get all food and objects\n",
    "\n",
    "for row in g.query(query):\n",
    "    print(row.whattool)"
   ]
  },
  {
   "cell_type": "markdown",
   "id": "5b0d7137",
   "metadata": {},
   "source": [
    "# Query 2: The robot needs to know the action parameters:\n",
    "## First, let us query the needed <b>angle</b> for pouring"
   ]
  },
  {
   "cell_type": "code",
   "execution_count": 31,
   "id": "e46448b3",
   "metadata": {},
   "outputs": [
    {
     "name": "stdout",
     "output_type": "stream",
     "text": [
      "min angle: 1 max angle: 45\n"
     ]
    }
   ],
   "source": [
    "anglequery = \"\"\"SELECT ?min ?max WHERE {  \n",
    "  %s rdfs:subClassOf ?s.\n",
    "  ?s owl:onProperty pour:hasConsistency.\n",
    "  ?s owl:someValuesFrom ?consistency.\n",
    "  ?union rdf:first*/rdf:rest* ?consistency.\n",
    "  {\n",
    "  ?rest rdf:first*/rdf:rest* ?union.\n",
    "  ?start owl:unionOf ?rest.\n",
    "  ?a owl:someValuesFrom ?start.\n",
    "  }\n",
    "  UNION\n",
    "  {\n",
    "    ?a owl:allValuesFrom ?union.\n",
    "  }\n",
    "  ?f rdf:first*/rdf:rest* ?a.\n",
    "  ?r rdf:first*/rdf:rest* ?f.\n",
    "  ?i owl:intersectionOf ?r.\n",
    "  ?inter owl:someValuesFrom ?i.\n",
    "  ?param rdfs:subClassOf ?inter.\n",
    "  ?param rdfs:subClassOf pour:PouringAngle.\n",
    "  ?param rdfs:subClassOf ?degree1.\n",
    "  ?degree1 owl:onProperty qudt:valueQuantity.\n",
    "  ?degree1 owl:minQualifiedCardinality ?min.\n",
    "  ?param rdfs:subClassOf ?degree2.\n",
    "  ?degree2 owl:onProperty qudt:valueQuantity.\n",
    "  ?degree2 owl:maxQualifiedCardinality ?max. }\"\"\" % (tobject) # the input parameter for the query. For testing, you can remove % (tobject) here\n",
    "#and replace %s in the first line of the query with a variable like ?food to get all food and objects\n",
    "\n",
    "for row in g.query(anglequery):\n",
    "    print(\"min angle:\",row.min, \"max angle:\", row.max)"
   ]
  },
  {
   "cell_type": "markdown",
   "id": "adadb33d",
   "metadata": {},
   "source": [
    "## Now let us examine how long the task should be performed"
   ]
  },
  {
   "cell_type": "code",
   "execution_count": 33,
   "id": "3261da0f",
   "metadata": {},
   "outputs": [
    {
     "name": "stdout",
     "output_type": "stream",
     "text": [
      "min duration: 1 max duration: 3\n"
     ]
    }
   ],
   "source": [
    "durationquery = \"\"\"SELECT ?min ?max WHERE {  \n",
    "  %s rdfs:subClassOf ?s.\n",
    "  ?s owl:onProperty pour:hasConsistency.\n",
    "  ?s owl:someValuesFrom ?consistency.\n",
    "  ?union rdf:first*/rdf:rest* ?consistency.\n",
    "  {\n",
    "  ?rest rdf:first*/rdf:rest* ?union.\n",
    "  ?start owl:unionOf ?rest.\n",
    "  ?a owl:someValuesFrom ?start.\n",
    "  }\n",
    "  UNION\n",
    "  {\n",
    "    ?a owl:allValuesFrom ?union.\n",
    "  }\n",
    "  ?f rdf:first*/rdf:rest* ?a.\n",
    "  ?r rdf:first*/rdf:rest* ?f.\n",
    "  ?i owl:intersectionOf ?r.\n",
    "  ?inter owl:someValuesFrom ?i.\n",
    "  ?param rdfs:subClassOf ?inter.\n",
    "  ?param rdfs:subClassOf pour:PouringDuration.\n",
    "  ?param rdfs:subClassOf ?degree1.\n",
    "  ?degree1 owl:onProperty qudt:valueQuantity.\n",
    "  ?degree1 owl:minQualifiedCardinality ?min.\n",
    "  ?param rdfs:subClassOf ?degree2.\n",
    "  ?degree2 owl:onProperty qudt:valueQuantity.\n",
    "  ?degree2 owl:maxQualifiedCardinality ?max. }\"\"\" % (tobject) # the input parameter for the query. For testing, you can remove % (tobject) here\n",
    "#and replace %s in the first line of the query with a variable like ?food to get all food and objects\n",
    "\n",
    "for row in g.query(durationquery):\n",
    "    print(\"min duration:\",row.min, \"max duration:\", row.max)"
   ]
  },
  {
   "cell_type": "code",
   "execution_count": null,
   "id": "f7dd74f6",
   "metadata": {},
   "outputs": [],
   "source": []
  }
 ],
 "metadata": {
  "kernelspec": {
   "display_name": "Python 3 (ipykernel)",
   "language": "python",
   "name": "python3"
  },
  "language_info": {
   "codemirror_mode": {
    "name": "ipython",
    "version": 3
   },
   "file_extension": ".py",
   "mimetype": "text/x-python",
   "name": "python",
   "nbconvert_exporter": "python",
   "pygments_lexer": "ipython3",
   "version": "3.11.6"
  }
 },
 "nbformat": 4,
 "nbformat_minor": 5
}
